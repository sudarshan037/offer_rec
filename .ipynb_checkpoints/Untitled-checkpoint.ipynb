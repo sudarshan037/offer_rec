{
 "cells": [
  {
   "cell_type": "code",
   "execution_count": 1,
   "metadata": {},
   "outputs": [],
   "source": [
    "import pandas as pd\n",
    "import numpy as np\n",
    "from matplotlib import pyplot as plt"
   ]
  },
  {
   "cell_type": "code",
   "execution_count": 2,
   "metadata": {},
   "outputs": [],
   "source": [
    "carea = pd.read_csv(\"coupon_area_train.csv\")\n",
    "cdetail = pd.read_csv(\"coupon_detail_train.csv\")\n",
    "clist = pd.read_csv(\"coupon_list_train.csv\")\n",
    "cvisit = pd.read_csv(\"coupon_visit_train.csv\")\n",
    "#pre_loc = pd.read_csv(\"prefecture_locations.csv\")\n",
    "user_list = pd.read_csv(\"user_list.csv\")"
   ]
  },
  {
   "cell_type": "code",
   "execution_count": 3,
   "metadata": {},
   "outputs": [
    {
     "name": "stdout",
     "output_type": "stream",
     "text": [
      "==============coupon_area_train==================\n",
      "Index(['SMALL_AREA_NAME', 'PREF_NAME', 'COUPON_ID_hash'], dtype='object')\n",
      "=============coupon_detail_train===================\n",
      "Index(['ITEM_COUNT', 'I_DATE', 'SMALL_AREA_NAME', 'PURCHASEID_hash',\n",
      "       'USER_ID_hash', 'COUPON_ID_hash'],\n",
      "      dtype='object')\n",
      "=============coupon_list_train==============\n",
      "Index(['CAPSULE_TEXT', 'GENRE_NAME', 'PRICE_RATE', 'CATALOG_PRICE',\n",
      "       'DISCOUNT_PRICE', 'DISPFROM', 'DISPEND', 'DISPPERIOD', 'VALIDFROM',\n",
      "       'VALIDEND', 'VALIDPERIOD', 'USABLE_DATE_MON', 'USABLE_DATE_TUE',\n",
      "       'USABLE_DATE_WED', 'USABLE_DATE_THU', 'USABLE_DATE_FRI',\n",
      "       'USABLE_DATE_SAT', 'USABLE_DATE_SUN', 'USABLE_DATE_HOLIDAY',\n",
      "       'USABLE_DATE_BEFORE_HOLIDAY', 'large_area_name', 'ken_name',\n",
      "       'small_area_name', 'COUPON_ID_hash'],\n",
      "      dtype='object')\n",
      "============coupon_visit_train============\n",
      "Index(['PURCHASE_FLG', 'I_DATE', 'PAGE_SERIAL', 'REFERRER_hash',\n",
      "       'VIEW_COUPON_ID_hash', 'USER_ID_hash', 'SESSION_ID_hash',\n",
      "       'PURCHASEID_hash'],\n",
      "      dtype='object')\n",
      "============user_list===============\n",
      "Index(['REG_DATE', 'SEX_ID', 'AGE', 'WITHDRAW_DATE', 'PREF_NAME',\n",
      "       'USER_ID_hash'],\n",
      "      dtype='object')\n"
     ]
    }
   ],
   "source": [
    "print(\"==============coupon_area_train==================\")\n",
    "print(carea.columns)\n",
    "print(\"=============coupon_detail_train===================\")\n",
    "print(cdetail.columns)\n",
    "print(\"=============coupon_list_train==============\")\n",
    "print(clist.columns)\n",
    "print(\"============coupon_visit_train============\")\n",
    "print(cvisit.columns)\n",
    "#print(\"===========prefecture_locations==============\")\n",
    "#print(pre_loc.columns)\n",
    "print(\"============user_list===============\")\n",
    "print(user_list.columns)"
   ]
  },
  {
   "cell_type": "markdown",
   "metadata": {},
   "source": [
    "1. What Category is he/she interested in?\n",
    "2. What range of Discount/Price is he looking for?\n",
    "3. Where is he interested in buying?\n",
    "4. top 3 categories visited by each user in past\n",
    "5. most recent category that each user has checked"
   ]
  },
  {
   "cell_type": "code",
   "execution_count": 4,
   "metadata": {},
   "outputs": [],
   "source": [
    "#(cvisit.USER_ID_hash)     (user_list.USER_ID_hash)\n",
    "#check on the basis of gender\n",
    "#Weight Matrix: GENRE_NAME, DISCOUNT_PRICE, DISPPERIOD, large_area_name, small_area_name, VALIDPERIOD, USABLE_DATE_sum\n",
    "#coupon visit factor: discount coupon visit relative to coupon purchase"
   ]
  },
  {
   "cell_type": "code",
   "execution_count": 5,
   "metadata": {},
   "outputs": [],
   "source": [
    "purchased_coupon = cdetail.merge(clist, on='COUPON_ID_hash', how='inner')"
   ]
  },
  {
   "cell_type": "code",
   "execution_count": 6,
   "metadata": {},
   "outputs": [
    {
     "data": {
      "text/plain": [
       "Index(['ITEM_COUNT', 'I_DATE', 'SMALL_AREA_NAME', 'PURCHASEID_hash',\n",
       "       'USER_ID_hash', 'COUPON_ID_hash', 'CAPSULE_TEXT', 'GENRE_NAME',\n",
       "       'PRICE_RATE', 'CATALOG_PRICE', 'DISCOUNT_PRICE', 'DISPFROM', 'DISPEND',\n",
       "       'DISPPERIOD', 'VALIDFROM', 'VALIDEND', 'VALIDPERIOD', 'USABLE_DATE_MON',\n",
       "       'USABLE_DATE_TUE', 'USABLE_DATE_WED', 'USABLE_DATE_THU',\n",
       "       'USABLE_DATE_FRI', 'USABLE_DATE_SAT', 'USABLE_DATE_SUN',\n",
       "       'USABLE_DATE_HOLIDAY', 'USABLE_DATE_BEFORE_HOLIDAY', 'large_area_name',\n",
       "       'ken_name', 'small_area_name'],\n",
       "      dtype='object')"
      ]
     },
     "execution_count": 6,
     "metadata": {},
     "output_type": "execute_result"
    }
   ],
   "source": [
    "purchased_coupon.columns"
   ]
  },
  {
   "cell_type": "code",
   "execution_count": 7,
   "metadata": {},
   "outputs": [
    {
     "data": {
      "text/plain": [
       "ITEM_COUNT                    False\n",
       "I_DATE                        False\n",
       "SMALL_AREA_NAME               False\n",
       "PURCHASEID_hash               False\n",
       "USER_ID_hash                  False\n",
       "COUPON_ID_hash                False\n",
       "CAPSULE_TEXT                  False\n",
       "GENRE_NAME                    False\n",
       "PRICE_RATE                    False\n",
       "CATALOG_PRICE                 False\n",
       "DISCOUNT_PRICE                False\n",
       "DISPFROM                      False\n",
       "DISPEND                       False\n",
       "DISPPERIOD                    False\n",
       "VALIDFROM                      True\n",
       "VALIDEND                       True\n",
       "VALIDPERIOD                    True\n",
       "USABLE_DATE_MON                True\n",
       "USABLE_DATE_TUE                True\n",
       "USABLE_DATE_WED                True\n",
       "USABLE_DATE_THU                True\n",
       "USABLE_DATE_FRI                True\n",
       "USABLE_DATE_SAT                True\n",
       "USABLE_DATE_SUN                True\n",
       "USABLE_DATE_HOLIDAY            True\n",
       "USABLE_DATE_BEFORE_HOLIDAY     True\n",
       "large_area_name               False\n",
       "ken_name                      False\n",
       "small_area_name               False\n",
       "dtype: bool"
      ]
     },
     "execution_count": 7,
     "metadata": {},
     "output_type": "execute_result"
    }
   ],
   "source": [
    "purchased_coupon.isnull().any()"
   ]
  },
  {
   "cell_type": "code",
   "execution_count": 8,
   "metadata": {},
   "outputs": [],
   "source": [
    "null_dict = {'USABLE_DATE_MON':1,\n",
    "             'USABLE_DATE_TUE':1,\n",
    "             'USABLE_DATE_WED':1,\n",
    "             'USABLE_DATE_THU':1,\n",
    "             'USABLE_DATE_FRI':1,\n",
    "             'USABLE_DATE_SAT':1,\n",
    "             'USABLE_DATE_SUN':1,\n",
    "             'USABLE_DATE_HOLIDAY':1,\n",
    "             'USABLE_DATE_BEFORE_HOLIDAY':1}\n",
    "purchased_coupon = purchased_coupon.fillna(value = null_dict)"
   ]
  },
  {
   "cell_type": "code",
   "execution_count": 9,
   "metadata": {},
   "outputs": [],
   "source": [
    "#remove redundant features\n",
    "features = ['COUPON_ID_hash', 'USER_ID_hash',\n",
    "            'GENRE_NAME', 'DISCOUNT_PRICE', 'PRICE_RATE',\n",
    "            'USABLE_DATE_MON', 'USABLE_DATE_TUE', 'USABLE_DATE_WED', 'USABLE_DATE_THU',\n",
    "            'USABLE_DATE_FRI', 'USABLE_DATE_SAT', 'USABLE_DATE_SUN', 'USABLE_DATE_HOLIDAY',\n",
    "            'USABLE_DATE_BEFORE_HOLIDAY', 'large_area_name', 'ken_name', 'small_area_name']\n",
    "#purchased_coupon\n",
    "combined = purchased_coupon[features]"
   ]
  },
  {
   "cell_type": "code",
   "execution_count": 10,
   "metadata": {},
   "outputs": [
    {
     "data": {
      "text/plain": [
       "Index(['COUPON_ID_hash', 'USER_ID_hash', 'GENRE_NAME', 'DISCOUNT_PRICE',\n",
       "       'PRICE_RATE', 'USABLE_DATE_MON', 'USABLE_DATE_TUE', 'USABLE_DATE_WED',\n",
       "       'USABLE_DATE_THU', 'USABLE_DATE_FRI', 'USABLE_DATE_SAT',\n",
       "       'USABLE_DATE_SUN', 'USABLE_DATE_HOLIDAY', 'USABLE_DATE_BEFORE_HOLIDAY',\n",
       "       'large_area_name', 'ken_name', 'small_area_name'],\n",
       "      dtype='object')"
      ]
     },
     "execution_count": 10,
     "metadata": {},
     "output_type": "execute_result"
    }
   ],
   "source": [
    "combined.columns"
   ]
  },
  {
   "cell_type": "code",
   "execution_count": 11,
   "metadata": {},
   "outputs": [
    {
     "name": "stderr",
     "output_type": "stream",
     "text": [
      "/home/team123/pract/lib/python3.6/site-packages/pandas/core/series.py:856: RuntimeWarning: divide by zero encountered in log10\n",
      "  result = getattr(ufunc, method)(*inputs, **kwargs)\n",
      "/home/team123/pract/lib/python3.6/site-packages/ipykernel_launcher.py:2: SettingWithCopyWarning: \n",
      "A value is trying to be set on a copy of a slice from a DataFrame.\n",
      "Try using .loc[row_indexer,col_indexer] = value instead\n",
      "\n",
      "See the caveats in the documentation: http://pandas.pydata.org/pandas-docs/stable/user_guide/indexing.html#returning-a-view-versus-a-copy\n",
      "  \n",
      "/home/team123/pract/lib/python3.6/site-packages/ipykernel_launcher.py:3: SettingWithCopyWarning: \n",
      "A value is trying to be set on a copy of a slice from a DataFrame.\n",
      "Try using .loc[row_indexer,col_indexer] = value instead\n",
      "\n",
      "See the caveats in the documentation: http://pandas.pydata.org/pandas-docs/stable/user_guide/indexing.html#returning-a-view-versus-a-copy\n",
      "  This is separate from the ipykernel package so we can avoid doing imports until\n"
     ]
    }
   ],
   "source": [
    "#create two new features\n",
    "combined['DISCOUNT_PRICE'] = 1 / np.log10(combined['DISCOUNT_PRICE'])\n",
    "combined['PRICE_RATE'] = (combined['PRICE_RATE'] / 100) ** 2\n",
    "features.extend(['DISCOUNT_PRICE', 'PRICE_RATE'])"
   ]
  },
  {
   "cell_type": "code",
   "execution_count": 12,
   "metadata": {},
   "outputs": [],
   "source": [
    "categoricals = ['GENRE_NAME', 'USABLE_DATE_MON', 'USABLE_DATE_TUE', 'USABLE_DATE_WED',\n",
    "                'USABLE_DATE_THU', 'USABLE_DATE_FRI', 'USABLE_DATE_SAT', 'USABLE_DATE_SUN',\n",
    "                'USABLE_DATE_HOLIDAY', 'USABLE_DATE_BEFORE_HOLIDAY', 'large_area_name',\n",
    "                'ken_name', 'small_area_name']\n",
    "combined_categoricals = combined[categoricals]\n",
    "combined_categoricals = pd.get_dummies(combined_categoricals, dummy_na=False)"
   ]
  },
  {
   "cell_type": "code",
   "execution_count": 14,
   "metadata": {},
   "outputs": [],
   "source": [
    "### leaving continuous features as is, obtain transformed dataset\n",
    "continuous = list(set(features) - set(categoricals))\n",
    "combined = pd.concat([combined[continuous], combined_categoricals], axis=1)"
   ]
  },
  {
   "cell_type": "code",
   "execution_count": null,
   "metadata": {},
   "outputs": [],
   "source": [
    "#train_dropped_coupons = combined.drop('COUPON_ID_hash', axis=1)\n",
    "user_profiles = train_dropped_coupons.groupby(by='USER_ID_hash').apply(np.mean)"
   ]
  },
  {
   "cell_type": "code",
   "execution_count": null,
   "metadata": {},
   "outputs": [],
   "source": [
    "### creating weight matrix for features\n",
    "FEATURE_WEIGHTS = {\n",
    "    'GENRE_NAME': 2,\n",
    "    'DISCOUNT_PRICE': 2,\n",
    "    'PRICE_RATE': 0,\n",
    "    'USABLE_DATE_': 0,\n",
    "    'large_area_name': 0.5,\n",
    "    'ken_name': 1,\n",
    "    'small_area_name': 5\n",
    "}"
   ]
  },
  {
   "cell_type": "code",
   "execution_count": null,
   "metadata": {},
   "outputs": [],
   "source": [
    "# dict lookup helper\n",
    "def find_appropriate_weight(weights_dict, colname):\n",
    "    for col, weight in weights_dict.items():\n",
    "        if col in colname:\n",
    "            return weight\n",
    "    raise ValueError"
   ]
  },
  {
   "cell_type": "code",
   "execution_count": null,
   "metadata": {},
   "outputs": [],
   "source": [
    "W_values = [find_appropriate_weight(FEATURE_WEIGHTS, colname)\n",
    "            for colname in user_profiles.columns]\n",
    "W = np.diag(W_values)"
   ]
  },
  {
   "cell_type": "code",
   "execution_count": null,
   "metadata": {},
   "outputs": [],
   "source": []
  }
 ],
 "metadata": {
  "kernelspec": {
   "display_name": "Python 3",
   "language": "python",
   "name": "python3"
  },
  "language_info": {
   "codemirror_mode": {
    "name": "ipython",
    "version": 3
   },
   "file_extension": ".py",
   "mimetype": "text/x-python",
   "name": "python",
   "nbconvert_exporter": "python",
   "pygments_lexer": "ipython3",
   "version": "3.6.9"
  }
 },
 "nbformat": 4,
 "nbformat_minor": 4
}
